{
 "cells": [
  {
   "cell_type": "code",
   "execution_count": 88,
   "metadata": {},
   "outputs": [],
   "source": [
    "import numpy as np\n",
    "import pandas as pd\n",
    "import xgboost as xgb\n",
    "from sklearn.preprocessing import LabelEncoder\n"
   ]
  },
  {
   "cell_type": "code",
   "execution_count": 104,
   "metadata": {},
   "outputs": [],
   "source": [
    "train_data = pd.read_csv('train.csv',index_col=0)\n",
    "test_data  = pd.read_csv('test.csv',index_col=0)"
   ]
  },
  {
   "cell_type": "code",
   "execution_count": 105,
   "metadata": {},
   "outputs": [],
   "source": [
    "encoders = []\n",
    "\n",
    "train_data = train_data.drop(columns = ['X', 'Y', 'Descript', 'Resolution'], errors = 'ignore')\n",
    "\n",
    "for column in train_data.columns:\n",
    "    labeler = LabelEncoder()\n",
    "    column_string = column + 'Code'\n",
    "    train_data[column_string] = labeler.fit_transform(train_data[column])\n",
    "    encoders.append(labeler)\n",
    "    train_data = train_data.drop(columns = column, errors = 'ignore')\n",
    "\n",
    "y_train = train_data['CategoryCode']\n",
    "X_train = train_data.drop(columns = 'CategoryCode', errors = 'ignore')"
   ]
  },
  {
   "cell_type": "code",
   "execution_count": 91,
   "metadata": {},
   "outputs": [],
   "source": [
    "test_data = test_data.drop(columns = ['X', 'Y'])\n",
    "\n",
    "for column in test_data.columns:\n",
    "    column_string = column + 'Code'\n",
    "    test_data[column_string] = LE.fit_transform(test_data[column])\n",
    "    test_data = test_data.drop(columns = column)\n",
    "\n",
    "X_test = test_data"
   ]
  },
  {
   "cell_type": "code",
   "execution_count": 92,
   "metadata": {},
   "outputs": [],
   "source": [
    "params = {\n",
    "    'objective': 'multi:softmax',\n",
    "    'num_class': max(y_train)+1,\n",
    "    'max_depth': 4,\n",
    "    'eta': 0.1\n",
    "}\n",
    "\n",
    "dtrain = xgb.DMatrix(X_train, label=y_train)\n",
    "# Train the XGBoost model\n",
    "num_rounds = 100\n",
    "xgb_model = xgb.train(params, dtrain, num_rounds)"
   ]
  },
  {
   "cell_type": "code",
   "execution_count": 93,
   "metadata": {},
   "outputs": [],
   "source": [
    "X_test = X_test.drop(columns='DatesCode', errors = 'ignore')\n",
    "#Create dummy test labels\n",
    "y_test = pd.Series(data = 0, index = range(0, 884262))\n",
    "\n",
    "dtest = xgb.DMatrix(X_test, label=y_test)\n",
    "# Make predictions on the testing data\n",
    "y_pred = xgb_model.predict(dtest)\n",
    "\n"
   ]
  },
  {
   "cell_type": "code",
   "execution_count": 113,
   "metadata": {},
   "outputs": [
    {
     "name": "stdout",
     "output_type": "stream",
     "text": [
      "        ASSAULT  DISORDERLY CONDUCT  DRUG/NARCOTIC  LARCENY/THEFT  \\\n",
      "0             0                   0              0              1   \n",
      "1             0                   0              0              0   \n",
      "2             0                   0              0              1   \n",
      "3             1                   0              0              0   \n",
      "4             1                   0              0              0   \n",
      "...         ...                 ...            ...            ...   \n",
      "884257        0                   0              0              1   \n",
      "884258        0                   0              0              1   \n",
      "884259        0                   0              0              1   \n",
      "884260        0                   0              0              0   \n",
      "884261        0                   0              0              1   \n",
      "\n",
      "        MISSING PERSON  NON-CRIMINAL  OTHER OFFENSES  PROSTITUTION  RUNAWAY  \\\n",
      "0                    0             0               0             0        0   \n",
      "1                    0             0               1             0        0   \n",
      "2                    0             0               0             0        0   \n",
      "3                    0             0               0             0        0   \n",
      "4                    0             0               0             0        0   \n",
      "...                ...           ...             ...           ...      ...   \n",
      "884257               0             0               0             0        0   \n",
      "884258               0             0               0             0        0   \n",
      "884259               0             0               0             0        0   \n",
      "884260               0             0               0             0        0   \n",
      "884261               0             0               0             0        0   \n",
      "\n",
      "        VEHICLE THEFT  \n",
      "0                   0  \n",
      "1                   0  \n",
      "2                   0  \n",
      "3                   0  \n",
      "4                   0  \n",
      "...               ...  \n",
      "884257              0  \n",
      "884258              0  \n",
      "884259              0  \n",
      "884260              1  \n",
      "884261              0  \n",
      "\n",
      "[884262 rows x 10 columns]\n"
     ]
    }
   ],
   "source": [
    "ser = pd.Series(y_pred, name = 'CategoryCode')\n",
    "ser = ser.astype('int64')\n",
    "y_pred_final = encoders[0].inverse_transform(ser)\n",
    "y_pred_final = pd.Series(y_pred_final , name='Category')\n",
    "y_pred_final = pd.get_dummies(y_pred_final, dtype = int)\n",
    "\n",
    "print(y_pred_final)"
   ]
  },
  {
   "cell_type": "code",
   "execution_count": 114,
   "metadata": {},
   "outputs": [],
   "source": [
    "y_pred_final.to_csv('submission.csv')"
   ]
  }
 ],
 "metadata": {
  "kernelspec": {
   "display_name": "base",
   "language": "python",
   "name": "python3"
  },
  "language_info": {
   "codemirror_mode": {
    "name": "ipython",
    "version": 3
   },
   "file_extension": ".py",
   "mimetype": "text/x-python",
   "name": "python",
   "nbconvert_exporter": "python",
   "pygments_lexer": "ipython3",
   "version": "3.11.5"
  }
 },
 "nbformat": 4,
 "nbformat_minor": 2
}
